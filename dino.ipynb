{
 "cells": [
  {
   "cell_type": "code",
   "execution_count": 2,
   "metadata": {},
   "outputs": [
    {
     "name": "stdout",
     "output_type": "stream",
     "text": [
      "Requirement already satisfied: cvzone in c:\\users\\chahi\\appdata\\roaming\\python\\python38\\site-packages (1.6.1)\n",
      "Requirement already satisfied: opencv-python in c:\\users\\chahi\\appdata\\roaming\\python\\python38\\site-packages (from cvzone) (4.9.0.80)\n",
      "Requirement already satisfied: numpy in c:\\users\\chahi\\appdata\\local\\programs\\python\\python38\\lib\\site-packages (from cvzone) (1.24.4)\n",
      "Note: you may need to restart the kernel to use updated packages.\n"
     ]
    },
    {
     "name": "stderr",
     "output_type": "stream",
     "text": [
      "WARNING: You are using pip version 21.1.1; however, version 24.0 is available.\n",
      "You should consider upgrading via the 'c:\\Users\\chahi\\AppData\\Local\\Programs\\Python\\Python38\\python.exe -m pip install --upgrade pip' command.\n"
     ]
    }
   ],
   "source": [
    "pip install cvzone"
   ]
  },
  {
   "cell_type": "code",
   "execution_count": 3,
   "metadata": {},
   "outputs": [
    {
     "name": "stdout",
     "output_type": "stream",
     "text": [
      "Requirement already satisfied: pyautogui in c:\\users\\chahi\\appdata\\local\\programs\\python\\python38\\lib\\site-packages (0.9.54)\n",
      "Requirement already satisfied: pygetwindow>=0.0.5 in c:\\users\\chahi\\appdata\\local\\programs\\python\\python38\\lib\\site-packages (from pyautogui) (0.0.9)\n",
      "Requirement already satisfied: pymsgbox in c:\\users\\chahi\\appdata\\local\\programs\\python\\python38\\lib\\site-packages (from pyautogui) (1.0.9)\n",
      "Requirement already satisfied: pytweening>=1.0.4 in c:\\users\\chahi\\appdata\\local\\programs\\python\\python38\\lib\\site-packages (from pyautogui) (1.2.0)\n",
      "Requirement already satisfied: mouseinfo in c:\\users\\chahi\\appdata\\local\\programs\\python\\python38\\lib\\site-packages (from pyautogui) (0.1.3)\n",
      "Requirement already satisfied: pyscreeze>=0.1.21 in c:\\users\\chahi\\appdata\\local\\programs\\python\\python38\\lib\\site-packages (from pyautogui) (0.1.30)\n",
      "Requirement already satisfied: pyrect in c:\\users\\chahi\\appdata\\local\\programs\\python\\python38\\lib\\site-packages (from pygetwindow>=0.0.5->pyautogui) (0.2.0)\n",
      "Requirement already satisfied: Pillow>=9.2.0 in c:\\users\\chahi\\appdata\\local\\programs\\python\\python38\\lib\\site-packages (from pyscreeze>=0.1.21->pyautogui) (10.3.0)\n",
      "Requirement already satisfied: pyperclip in c:\\users\\chahi\\appdata\\local\\programs\\python\\python38\\lib\\site-packages (from mouseinfo->pyautogui) (1.8.2)\n",
      "Note: you may need to restart the kernel to use updated packages.\n"
     ]
    },
    {
     "name": "stderr",
     "output_type": "stream",
     "text": [
      "WARNING: You are using pip version 21.1.1; however, version 24.0 is available.\n",
      "You should consider upgrading via the 'c:\\Users\\chahi\\AppData\\Local\\Programs\\Python\\Python38\\python.exe -m pip install --upgrade pip' command.\n"
     ]
    }
   ],
   "source": [
    "pip install pyautogui"
   ]
  },
  {
   "cell_type": "code",
   "execution_count": 6,
   "metadata": {},
   "outputs": [],
   "source": [
    "import cv2\n",
    "import cvzone\n",
    "from cvzone.HandTrackingModule import HandDetector\n",
    "import pyautogui as auto"
   ]
  },
  {
   "cell_type": "code",
   "execution_count": 8,
   "metadata": {},
   "outputs": [],
   "source": [
    "# Import necessary libraries\n",
    "from cvzone.HandTrackingModule import HandDetector\n",
    "import cv2\n",
    "\n",
    "# Initialize webcam\n",
    "cap = cv2.VideoCapture(0)\n",
    "\n",
    "# Create hand detector object with maxHands set to 1\n",
    "detector = HandDetector(maxHands=1)\n",
    "\n",
    "# Main loop\n",
    "while True:\n",
    "    # Read frame from webcam\n",
    "    success, img = cap.read()\n",
    "    \n",
    "    # Detect hand in the frame\n",
    "    hand, img = detector.findHands(img)\n",
    "    \n",
    "    # Add text to the image\n",
    "    cvzone.putTextRect(img, 'Dino Game Hack', [100, 40], scale=3, thickness=3, border=2)\n",
    "    \n",
    "    # Check if hand is detected\n",
    "    if hand:\n",
    "        hands = hand[0]\n",
    "        lmlist = hands['lmList']\n",
    "        \n",
    "        # Calculate length between thumb tip and index finger tip\n",
    "        length, info, img = detector.findDistance(lmlist[4][0:2], lmlist[8][0:2], img)\n",
    "        length = round(length)\n",
    "        \n",
    "        # If length is less than 25 (threshold), simulate pressing 'up' key\n",
    "        if length < 25:\n",
    "            auto.press('up')  # Assuming `auto` is imported from somewhere\n",
    "            \n",
    "    # Display the modified image\n",
    "    cv2.imshow(\"AI\", img)\n",
    "    \n",
    "    # Wait for key press (1 ms delay)\n",
    "    cv2.waitKey(1)"
   ]
  }
 ],
 "metadata": {
  "kernelspec": {
   "display_name": "Python 3",
   "language": "python",
   "name": "python3"
  },
  "language_info": {
   "codemirror_mode": {
    "name": "ipython",
    "version": 3
   },
   "file_extension": ".py",
   "mimetype": "text/x-python",
   "name": "python",
   "nbconvert_exporter": "python",
   "pygments_lexer": "ipython3",
   "version": "3.8.10"
  }
 },
 "nbformat": 4,
 "nbformat_minor": 2
}
